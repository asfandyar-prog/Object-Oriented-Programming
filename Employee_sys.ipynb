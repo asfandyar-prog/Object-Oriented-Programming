{
  "nbformat": 4,
  "nbformat_minor": 0,
  "metadata": {
    "colab": {
      "provenance": []
    },
    "kernelspec": {
      "name": "python3",
      "display_name": "Python 3"
    },
    "language_info": {
      "name": "python"
    }
  },
  "cells": [
    {
      "cell_type": "code",
      "execution_count": null,
      "metadata": {
        "id": "hOhBf5gkSa3l"
      },
      "outputs": [],
      "source": [
        "class Person:\n",
        "  def __init__(self,name,age):\n",
        "    self.name=name\n",
        "    self.age=age\n",
        "\n",
        "class Employee(Person):\n",
        "  def __init__(self,name,age,employee_id):\n",
        "    super().__init__(name,age)\n",
        "    self.employee_id=employee_id\n",
        "    self.tasks={}\n",
        "  def add_task(self,name,score):\n",
        "    self.tasks[name]=score\n",
        "\n",
        "  def calculate_ave(self):\n",
        "\n",
        "    if not self.tasks:\n",
        "\n",
        "      return 0\n",
        "\n",
        "    total=sum(self.tasks.values())\n",
        "    num_of_tasks=len(self.tasks)\n",
        "    return (total/num_of_tasks)*100\n",
        "\n",
        "  def calculate_rating(self):\n",
        "    rating =self.calculate_ave()\n",
        "    if rating >=90:\n",
        "      return 'A'\n",
        "    elif rating >= 70:\n",
        "        return \"B\"\n",
        "    elif rating >= 40:\n",
        "        return \"C\"\n",
        "    elif rating >= 30:\n",
        "        return \"D\"\n",
        "    else:\n",
        "        return \"F\"\n",
        "\n",
        "  def get_review_card(self):\n",
        "    report = f\"Name:{self.name}\\n\"\n",
        "    report +=f\"ID : {self.employee_id}\"\n",
        "    report += f\"Tasks : \\n\"\n",
        "\n",
        "    for name,score in self.tasks.items():\n",
        "      report +=f\"{name} : {score}\\n\"\n",
        "\n",
        "    total=sum(self.tasks.values())\n",
        "    average = self.calculate_ave()\n",
        "\n",
        "\n",
        "    report += f\"total_score : {total}\"\n",
        "    report +=f\"average : {average}\"\n",
        "    report +=f\"rating : {self.calculate_rating()}\"\n",
        "\n",
        "    return report\n",
        "\n",
        "\n",
        "\n",
        "class Company :\n",
        "  def  __init__(self):\n",
        "    self.employees=[]\n",
        "\n",
        "  def add_employee(self,employee):\n",
        "    self.employees.append(employee)\n",
        "\n",
        "  def generate_all_reviews(self):\n",
        "    for employee in self.employees:\n",
        "      print(employee.get_review_card())\n",
        "\n",
        "\n",
        "\n",
        "\n",
        "\n"
      ]
    },
    {
      "cell_type": "code",
      "source": [],
      "metadata": {
        "id": "LQYO2Ts4XI3e"
      },
      "execution_count": null,
      "outputs": []
    },
    {
      "cell_type": "code",
      "source": [
        "emp1 = Employee(\"Sarah\", 28, \"E101\")\n",
        "emp1.add_task(\"Client Meeting\", 95)\n",
        "emp1.add_task(\"Report Writing\", 80)\n",
        "emp1.add_task(\"Time Management\", 70)\n",
        "\n",
        "emp2 = Employee(\"Ahmed\", 32, \"E102\")\n",
        "emp2.add_task(\"Team Leadership\", 85)\n",
        "emp2.add_task(\"Project Delivery\", 78)\n",
        "emp2.add_task(\"Code Quality\", 88)\n",
        "\n",
        "company = Company()\n",
        "company.add_employee(emp1)\n",
        "company.add_employee(emp2)\n",
        "\n",
        "company.generate_all_reviews()\n"
      ],
      "metadata": {
        "colab": {
          "base_uri": "https://localhost:8080/"
        },
        "id": "lEwgKR-pXQLs",
        "outputId": "cafdc424-5f11-4b5b-8345-e2876bf4d901"
      },
      "execution_count": null,
      "outputs": [
        {
          "output_type": "stream",
          "name": "stdout",
          "text": [
            "Name:Sarah\n",
            "ID : E101Tasks : \n",
            "Client Meeting : 95\n",
            "Report Writing : 80\n",
            "Time Management : 70\n",
            "total_score : 245average : 8166.666666666667rating : A\n",
            "Name:Ahmed\n",
            "ID : E102Tasks : \n",
            "Team Leadership : 85\n",
            "Project Delivery : 78\n",
            "Code Quality : 88\n",
            "total_score : 251average : 8366.666666666668rating : A\n"
          ]
        }
      ]
    },
    {
      "cell_type": "code",
      "source": [],
      "metadata": {
        "id": "0-QcAanhYmlH"
      },
      "execution_count": null,
      "outputs": []
    }
  ]
}