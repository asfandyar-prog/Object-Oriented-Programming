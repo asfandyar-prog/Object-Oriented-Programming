{
  "nbformat": 4,
  "nbformat_minor": 0,
  "metadata": {
    "colab": {
      "provenance": []
    },
    "kernelspec": {
      "name": "python3",
      "display_name": "Python 3"
    },
    "language_info": {
      "name": "python"
    }
  },
  "cells": [
    {
      "cell_type": "code",
      "execution_count": null,
      "metadata": {
        "id": "j-LqkF15xzC2"
      },
      "outputs": [],
      "source": [
        "class Book:\n",
        "  def __init__(self,title,author,total_copies):\n",
        "    self.title=title\n",
        "    self.author=author\n",
        "    self.total_copies=total_copies\n",
        "    self.available_copies= total_copies\n",
        "\n",
        "  def get_details(self):\n",
        "    return f\"title : {self.title}\\n author : {self.author} \\n total_copies : {self.total_copies}\\n avalible_copies : {self.available_copies} \"\n",
        "\n",
        "class Member:\n",
        "  def __init__(self,name,member_id):\n",
        "    self.name=name\n",
        "    self.member_id=member_id\n",
        "    self.borrowed_books=[]\n",
        "\n",
        "  def borrow_book(self,book):\n",
        "    self.borrowed_books.append(book)\n",
        "    print(f\"{self.name} borrowd '{book.title}'\")\n",
        "\n",
        "\n",
        "  def return_book(self,book):\n",
        "    if book in self.borrowed_books:\n",
        "      self.borrowed_books.remove(book)\n",
        "      print(f\"{self.name} returned '{book.title}'\")\n",
        "    else:\n",
        "      print(\"book not find in the borrowed list\")\n",
        "\n",
        "\n",
        "\n",
        "\n",
        "\n",
        "\n",
        "\n",
        "class Library:\n",
        "  def __init__(self):\n",
        "    self.books=[]\n",
        "    self.members=[]\n",
        "\n",
        "  def add_book(self,book):\n",
        "    self.books.append(book)\n",
        "    print(f\"{book.title} add to the library.\")\n",
        "\n",
        "  def add_member(self,member):\n",
        "    self.members.append(member)\n",
        "    print(f\"{member.name} is added to the library.\")\n",
        "  def view_all_books(self):\n",
        "    if not self.books:\n",
        "      print(\"no book is found in the library.\")\n",
        "    for book in self.books:\n",
        "      print(book.get_details(),\"\\n\")\n",
        "\n",
        "  def view_all_member(self):\n",
        "    if  not  self.members:\n",
        "      print(\"no member found.\")\n",
        "    for member in self.members:\n",
        "      print(f\"Name:{member.name}\\n Member_id :{member.member_id} \\n borrowed_book : {[b.title for b in member.borrowed_books]}\")\n",
        "\n",
        "\n",
        "  def search_book_by_title(self,title):\n",
        "    for book in self.books:\n",
        "      if book.title.lower()== title.lower():\n",
        "        print (f\"the book you searching is {book.get_details()}\")\n",
        "        return book\n",
        "      else:\n",
        "        print(\"book not find\")\n",
        "      return None\n",
        "\n",
        "  def borrow_book(self,member_id,title):\n",
        "    member =next((m for m in self.members if m.member_id==member_id),None)\n",
        "    book=self.search_book_by_title(title)\n",
        "\n",
        "    if member and book:\n",
        "      if book.available_copies>0:\n",
        "        member.borrow_book(book)\n",
        "        book.available_copies -=1\n",
        "      else :\n",
        "        print(\"no book availabe.\")\n",
        "    else :\n",
        "      print(\"invalid book or member.\")\n",
        "\n",
        "\n",
        "  def return_book(self,member_id,title):\n",
        "    member=next((m for m in self.members if m.member_id == member_id),None)\n",
        "    if not member:\n",
        "      print(\"Member not found.\")\n",
        "      return\n",
        "\n",
        "    for book in member.borrowed_books:\n",
        "      if book.title.lower()==title.lower():\n",
        "        member.return_book(book)\n",
        "        book.available_copies +=1\n",
        "        return\n",
        "\n",
        "    print (\"book not found in members borrowed list.\")\n"
      ]
    },
    {
      "cell_type": "markdown",
      "source": [
        "# New section"
      ],
      "metadata": {
        "id": "nsWXl1iGOSry"
      }
    },
    {
      "cell_type": "code",
      "source": [
        "# Create Library\n",
        "lib = Library()\n",
        "\n",
        "# Add Books\n",
        "b1 = Book(\"Python Basics\", \"John Doe\", 5)\n",
        "b2 = Book(\"Data Science 101\", \"Jane Smith\", 3)\n",
        "lib.add_book(b1)\n",
        "lib.add_book(b2)\n",
        "\n",
        "# Add Members\n",
        "m1 = Member(\"Asfand\", \"M001\")\n",
        "m2 = Member(\"Zara\", \"M002\")\n",
        "lib.add_member(m1)\n",
        "lib.add_member(m2)\n",
        "\n",
        "# Borrow Book\n",
        "lib.borrow_book(\"M001\", \"Python Basics\")\n",
        "lib.borrow_book(\"M002\", \"Python Basics\")\n",
        "\n",
        "# View Books\n",
        "lib.view_all_books()\n",
        "\n",
        "# Return Book\n",
        "lib.return_book(\"M001\", \"Python Basics\")\n"
      ],
      "metadata": {
        "colab": {
          "base_uri": "https://localhost:8080/"
        },
        "id": "t8IRdeld1ZPj",
        "outputId": "37b097d9-f634-4a7e-8610-d455cf2d48c6"
      },
      "execution_count": null,
      "outputs": [
        {
          "output_type": "stream",
          "name": "stdout",
          "text": [
            "Python Basics add to the library.\n",
            "Data Science 101 add to the library.\n",
            "Asfand is added to the library.\n",
            "Zara is added to the library.\n",
            "the book you searching is title : Python Basics\n",
            " author : John Doe \n",
            " total_copies : 5\n",
            " avalible_copies : 5 \n",
            "Asfand borrowd 'Python Basics'\n",
            "the book you searching is title : Python Basics\n",
            " author : John Doe \n",
            " total_copies : 5\n",
            " avalible_copies : 4 \n",
            "Zara borrowd 'Python Basics'\n",
            "title : Python Basics\n",
            " author : John Doe \n",
            " total_copies : 5\n",
            " avalible_copies : 3  \n",
            "\n",
            "title : Data Science 101\n",
            " author : Jane Smith \n",
            " total_copies : 3\n",
            " avalible_copies : 3  \n",
            "\n",
            "Asfand returned 'Python Basics'\n"
          ]
        }
      ]
    },
    {
      "cell_type": "markdown",
      "source": [],
      "metadata": {
        "id": "p8ixmd1M1baO"
      }
    },
    {
      "cell_type": "code",
      "source": [],
      "metadata": {
        "id": "lCXvgA3D1ZN_"
      },
      "execution_count": null,
      "outputs": []
    }
  ]
}